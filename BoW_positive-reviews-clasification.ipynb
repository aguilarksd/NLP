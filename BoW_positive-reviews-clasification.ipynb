{
  "nbformat": 4,
  "nbformat_minor": 0,
  "metadata": {
    "colab": {
      "provenance": []
    },
    "kernelspec": {
      "name": "python3",
      "display_name": "Python 3"
    }
  },
  "cells": [
    {
      "cell_type": "markdown",
      "metadata": {
        "id": "VwK5-9FIB-lu"
      },
      "source": [
        "# Natural Language Processing"
      ]
    },
    {
      "cell_type": "markdown",
      "metadata": {
        "id": "X1kiO9kACE6s"
      },
      "source": [
        "## Importing the libraries"
      ]
    },
    {
      "cell_type": "code",
      "metadata": {
        "id": "7QG7sxmoCIvN"
      },
      "source": [
        "import numpy as np\n",
        "import matplotlib.pyplot as plt\n",
        "import pandas as pd"
      ],
      "execution_count": 1,
      "outputs": []
    },
    {
      "cell_type": "markdown",
      "metadata": {
        "id": "wTfaCIzdCLPA"
      },
      "source": [
        "## Importing the dataset"
      ]
    },
    {
      "cell_type": "code",
      "metadata": {
        "id": "UCK6vQ5QCQJe"
      },
      "source": [
        "dataset = pd.read_csv('Restaurant_Reviews.tsv', delimiter = '\\t', quoting = 3)"
      ],
      "execution_count": 3,
      "outputs": []
    },
    {
      "cell_type": "markdown",
      "metadata": {
        "id": "Qekztq71CixT"
      },
      "source": [
        "## Cleaning the texts"
      ]
    },
    {
      "cell_type": "code",
      "metadata": {
        "id": "8u_yXh9dCmEE",
        "outputId": "b913b048-89fb-4161-bc05-2203e96a439e",
        "colab": {
          "base_uri": "https://localhost:8080/"
        }
      },
      "source": [
        "import re #keep the letters\n",
        "import nltk#NL procesing tool kit\n",
        "nltk.download('stopwords')#get the words like a and, that, ....\n",
        "from nltk.corpus import stopwords #import it\n",
        "from nltk.stem.porter import PorterStemmer #to transform the diferent time of  a verb in just one infinitive form\n",
        "corpus = []\n",
        "for i in range(0, 1000):\n",
        "  review = re.sub('[^a-zA-Z]', ' ', dataset['Review'][i])#delet all the contnent that is not a letter or space\n",
        "  review = review.lower()#transfor all in lower letters\n",
        "  review = review.split()#split the phrases in each word\n",
        "  ps = PorterStemmer()#constructor\n",
        "  all_stopwords = stopwords.words('english')#select in what lengujes are the stop words\n",
        "  all_stopwords.remove('not')#remove not becouse its usefull here\n",
        "  review = [ps.stem(word) for word in review if not word in set(all_stopwords)]#keep all the words that are not stopwrods and transform it in a infinive form\n",
        "  review = ' '.join(review)#re join each word in a phrase\n",
        "  corpus.append(review)"
      ],
      "execution_count": 4,
      "outputs": [
        {
          "output_type": "stream",
          "name": "stderr",
          "text": [
            "[nltk_data] Downloading package stopwords to /root/nltk_data...\n",
            "[nltk_data]   Unzipping corpora/stopwords.zip.\n"
          ]
        }
      ]
    },
    {
      "cell_type": "markdown",
      "metadata": {
        "id": "CLqmAkANCp1-"
      },
      "source": [
        "## Creating the Bag of Words model"
      ]
    },
    {
      "cell_type": "code",
      "metadata": {
        "id": "qroF7XcSCvY3"
      },
      "source": [
        "from sklearn.feature_extraction.text import CountVectorizer\n",
        "cv = CountVectorizer(max_features = 1500)#make a histogram of each most frecuently 1500words\n",
        "X = cv.fit_transform(corpus).toarray() #get the histogram of our data\n",
        "y = dataset.iloc[:, -1].values #take the output of the data its a binary output"
      ],
      "execution_count": 5,
      "outputs": []
    },
    {
      "cell_type": "markdown",
      "metadata": {
        "id": "DH_VjgPzC2cd"
      },
      "source": [
        "## Splitting the dataset into the Training set and Test set"
      ]
    },
    {
      "cell_type": "code",
      "metadata": {
        "id": "qQXYM5VzDDDI"
      },
      "source": [
        "from sklearn.model_selection import train_test_split\n",
        "X_train, X_test, y_train, y_test = train_test_split(X, y, test_size = 0.20, random_state = 0)"
      ],
      "execution_count": 6,
      "outputs": []
    },
    {
      "cell_type": "markdown",
      "source": [
        "##Function to get metrics"
      ],
      "metadata": {
        "id": "lGbVIZLx2wjs"
      }
    },
    {
      "cell_type": "code",
      "source": [
        "def calculate_metrics(y_true, y_pred):\n",
        "    from sklearn.metrics import confusion_matrix #, accuracy_score, precision_score, recall_score, f1_score\n",
        "    # Calculate confusion matrix\n",
        "    cm = confusion_matrix(y_true, y_pred)\n",
        "    TP, FP, FN, TN = cm.flatten()\n",
        "    # Calculate accuracy\n",
        "    accuracy = (TP+TN)/(TP+TN+FP+FN) #accuracy_score(y_true, y_pred)\n",
        "\n",
        "    # Calculate precision\n",
        "    precision = TP/(TP+FP) #precision_score(y_true, y_pred)\n",
        "\n",
        "    # Calculate recall\n",
        "    recall = TP/(TP+FN)#recall_score(y_true, y_pred)\n",
        "\n",
        "    # Calculate F1 score\n",
        "    f1 = 2*precision*recall/(precision+recall) #f1_score(y_true, y_pred)\n",
        "\n",
        "    return accuracy, precision, recall, f1"
      ],
      "metadata": {
        "id": "HfjImoke21lg"
      },
      "execution_count": 7,
      "outputs": []
    },
    {
      "cell_type": "code",
      "source": [
        "Results = []"
      ],
      "metadata": {
        "id": "qy_9VyRY94pU"
      },
      "execution_count": 8,
      "outputs": []
    },
    {
      "cell_type": "markdown",
      "metadata": {
        "id": "VkIq23vEDIPt"
      },
      "source": [
        "## Naive Bayes model G-NB"
      ]
    },
    {
      "cell_type": "code",
      "metadata": {
        "id": "DS9oiDXXDRdI"
      },
      "source": [
        "from sklearn.naive_bayes import GaussianNB\n",
        "classifierGNB = GaussianNB()#constructor\n",
        "classifierGNB.fit(X_train, y_train)#training\n",
        "y_pred = classifierGNB.predict(X_test)#prediction\n",
        "Results.append(['G-NB', calculate_metrics(y_test, y_pred)])#saving metrics"
      ],
      "execution_count": 9,
      "outputs": []
    },
    {
      "cell_type": "markdown",
      "metadata": {
        "id": "qR2zjRnrBYHQ"
      },
      "source": [
        "## K-NN model\n"
      ]
    },
    {
      "cell_type": "code",
      "metadata": {
        "id": "BP7o6pd8BYHR"
      },
      "source": [
        "from sklearn.neighbors import KNeighborsClassifier\n",
        "classifierKNN = KNeighborsClassifier(n_neighbors = 5, metric = 'minkowski', p = 2)#constructor\n",
        "classifierKNN.fit(X_train, y_train)#training\n",
        "y_pred = classifierKNN.predict(X_test)#prediction\n",
        "Results.append(['K-NN', calculate_metrics(y_test, y_pred)])#saving metrics"
      ],
      "execution_count": 10,
      "outputs": []
    },
    {
      "cell_type": "markdown",
      "metadata": {
        "id": "o4Ghecx1CtbU"
      },
      "source": [
        "## Logistic Regression model LR\n"
      ]
    },
    {
      "cell_type": "code",
      "metadata": {
        "id": "jhPAt9_iCtb7"
      },
      "source": [
        "from sklearn.linear_model import LogisticRegression\n",
        "classifierLN = LogisticRegression()#constructor\n",
        "classifierLN.fit(X_train, y_train)#training\n",
        "y_pred = classifierLN.predict(X_test)#prediction\n",
        "Results.append(['LR', calculate_metrics(y_test, y_pred)])#saving metrics"
      ],
      "execution_count": 11,
      "outputs": []
    },
    {
      "cell_type": "markdown",
      "metadata": {
        "id": "stiIlVNQCuN2"
      },
      "source": [
        "## Random Forest Classification model RF\n"
      ]
    },
    {
      "cell_type": "code",
      "metadata": {
        "id": "Pm1gFf91CuN3"
      },
      "source": [
        "from sklearn.ensemble import RandomForestClassifier\n",
        "classifierRF = RandomForestClassifier(n_estimators = 10, criterion = 'entropy')#constructor\n",
        "classifierRF.fit(X_train, y_train)#training\n",
        "y_pred = classifierRF.predict(X_test)#prediction\n",
        "Results.append(['RF', calculate_metrics(y_test, y_pred)])#saving metrics"
      ],
      "execution_count": 12,
      "outputs": []
    },
    {
      "cell_type": "markdown",
      "metadata": {
        "id": "FRkVhGK5Ekc8"
      },
      "source": [
        "## Decision Tree Classification model DT\n"
      ]
    },
    {
      "cell_type": "code",
      "metadata": {
        "id": "kGN0qHB9Ekde"
      },
      "source": [
        "from sklearn.tree import DecisionTreeClassifier\n",
        "classifierDT = DecisionTreeClassifier(criterion = 'entropy')#constructor\n",
        "classifierDT.fit(X_train, y_train)#training\n",
        "y_pred = classifierDT.predict(X_test)#prediction\n",
        "Results.append(['DT', calculate_metrics(y_test, y_pred)])#saving metrics"
      ],
      "execution_count": 13,
      "outputs": []
    },
    {
      "cell_type": "markdown",
      "metadata": {
        "id": "UN1mZaAWFalh"
      },
      "source": [
        "##  SVM model"
      ]
    },
    {
      "cell_type": "code",
      "metadata": {
        "id": "KBz16nF4FamE"
      },
      "source": [
        "from sklearn.svm import SVC\n",
        "classifierSVM = SVC(kernel = 'rbf', random_state = 0)#constructor\n",
        "classifierSVM.fit(X_train, y_train)#training\n",
        "y_pred = classifierSVM.predict(X_test)#prediction\n",
        "Results.append(['SVM', calculate_metrics(y_test, y_pred)])#saving metrics"
      ],
      "execution_count": 14,
      "outputs": []
    },
    {
      "cell_type": "markdown",
      "source": [
        "##Other methods\n",
        "\n"
      ],
      "metadata": {
        "id": "54ZEms_Z7mnM"
      }
    },
    {
      "cell_type": "markdown",
      "metadata": {
        "id": "AlD2QjDG8OXC"
      },
      "source": [
        "##  CART model"
      ]
    },
    {
      "cell_type": "code",
      "metadata": {
        "id": "Eg8IZYcx8OXg"
      },
      "source": [
        "from sklearn.tree import DecisionTreeClassifier\n",
        "classifierCART = DecisionTreeClassifier(criterion = 'gini')#constructor\n",
        "classifierCART.fit(X_train, y_train)#training\n",
        "y_pred = classifierCART.predict(X_test)#prediction\n",
        "Results.append(['CART', calculate_metrics(y_test, y_pred)])#saving metrics"
      ],
      "execution_count": 15,
      "outputs": []
    },
    {
      "cell_type": "markdown",
      "source": [
        "##  Maximum Entrop model"
      ],
      "metadata": {
        "id": "zvDtyycA-1Qv"
      }
    },
    {
      "cell_type": "code",
      "execution_count": 17,
      "metadata": {
        "id": "1cd69e96"
      },
      "outputs": [],
      "source": [
        "from sklearn.linear_model import LogisticRegression\n",
        "classifierME = LogisticRegression(solver='lbfgs', multi_class='multinomial')#constructor\n",
        "classifierME.fit(X_train, y_train)#training\n",
        "y_pred = classifierME.predict(X_test)#prediction\n",
        "Results.append(['ME', calculate_metrics(y_test, y_pred)])#saving metrics"
      ]
    },
    {
      "cell_type": "markdown",
      "source": [
        "##Compartion of clasification methods"
      ],
      "metadata": {
        "id": "lEHbMaqjBz2Q"
      }
    },
    {
      "cell_type": "code",
      "source": [
        "# Extract techniques and metrics\n",
        "techniques = [result[0] for result in Results]\n",
        "metrics = [result[1] for result in Results]\n",
        "\n",
        "# Extract individual metrics for plotting\n",
        "accuracy = [metric[0] for metric in metrics]\n",
        "precision = [metric[1] for metric in metrics]\n",
        "recall = [metric[2] for metric in metrics]\n",
        "f1_score = [metric[3] for metric in metrics]\n",
        "\n",
        "# Create a bar chart\n",
        "fig, ax = plt.subplots(figsize=(12, 6))\n",
        "bar_width = 0.2\n",
        "index = range(len(techniques))\n",
        "\n",
        "rects1 = ax.bar(index, accuracy, bar_width, label='Accuracy')\n",
        "rects2 = ax.bar([i + bar_width for i in index], precision, bar_width, label='Precision')\n",
        "rects3 = ax.bar([i + 2 * bar_width for i in index], recall, bar_width, label='Recall')\n",
        "rects4 = ax.bar([i + 3 * bar_width for i in index], f1_score, bar_width, label='F1 Score')\n",
        "\n",
        "ax.set_xlabel('Techniques')\n",
        "ax.set_ylabel('Metrics')\n",
        "ax.set_title('Comparison of Techniques with Different Metrics')\n",
        "ax.set_xticks([i + 1.5 * bar_width for i in index])\n",
        "ax.set_xticklabels(techniques)\n",
        "ax.legend()\n",
        "\n",
        "plt.tight_layout()\n",
        "plt.show()"
      ],
      "metadata": {
        "colab": {
          "base_uri": "https://localhost:8080/",
          "height": 607
        },
        "id": "bMgpGggRB0i6",
        "outputId": "7622c6f0-97c0-4fc8-b75e-610b58603c22"
      },
      "execution_count": 24,
      "outputs": [
        {
          "output_type": "display_data",
          "data": {
            "text/plain": [
              "<Figure size 1200x600 with 1 Axes>"
            ],
            "image/png": "[encoded data removed]"
          },
          "metadata": {}
        }
      ]
    },
    {
      "cell_type": "code",
      "source": [
        "metrics = ['Accuracy', 'Precision', 'Recall', 'F1 Score']\n",
        "\n",
        "# Initialize dictionaries to store the best result for each metric\n",
        "best_results = {metric: {'technique': None, 'value': 0.0} for metric in metrics}\n",
        "\n",
        "# Find the best result for each metric\n",
        "for technique, metric_values in Results:\n",
        "    for metric_index, metric_value in enumerate(metric_values):\n",
        "        metric = metrics[metric_index]\n",
        "        if metric_value > best_results[metric]['value']:\n",
        "            best_results[metric]['technique'] = technique\n",
        "            best_results[metric]['value'] = metric_value\n",
        "\n",
        "# Print the best results for each metric\n",
        "for metric in metrics:\n",
        "    best_technique = best_results[metric]['technique']\n",
        "    best_value = best_results[metric]['value']\n",
        "    print(f\"Best {metric}: {best_technique} - {best_value:.2f}\")"
      ],
      "metadata": {
        "colab": {
          "base_uri": "https://localhost:8080/"
        },
        "id": "gNhbQtOnjPyw",
        "outputId": "3c7a7dca-42ea-41e3-fc20-c969ad6ec184"
      },
      "execution_count": 25,
      "outputs": [
        {
          "output_type": "stream",
          "name": "stdout",
          "text": [
            "Best Accuracy: SVM - 0.78\n",
            "Best Precision: RF - 0.96\n",
            "Best Recall: G-NB - 0.82\n",
            "Best F1 Score: SVM - 0.80\n"
          ]
        }
      ]
    }
  ]
}